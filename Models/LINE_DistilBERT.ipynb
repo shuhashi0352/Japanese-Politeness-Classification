{
 "cells": [
  {
   "cell_type": "markdown",
   "metadata": {},
   "source": [
    "Convert the csv file (the dataset containing 6000 sentences over 3 levels) to pandas dataframe"
   ]
  },
  {
   "cell_type": "code",
   "execution_count": 98,
   "metadata": {},
   "outputs": [],
   "source": [
    "import pandas as pd\n",
    "import torch\n",
    "\n",
    "df = pd.read_csv('all_sents.csv')\n",
    "\n",
    "sentences = df[\"本文\"]\n",
    "gold_labels = df[\"Level\"]"
   ]
  },
  {
   "cell_type": "markdown",
   "metadata": {},
   "source": [
    "Split the dataset into train, dev, and test"
   ]
  },
  {
   "cell_type": "code",
   "execution_count": null,
   "metadata": {},
   "outputs": [],
   "source": [
    "from sklearn.model_selection import train_test_split\n",
    "\n",
    "train, test = train_test_split(df, train_size=0.8, random_state=42)\n",
    "\n",
    "test, dev = train_test_split(test, train_size=0.5, random_state=42)"
   ]
  },
  {
   "cell_type": "code",
   "execution_count": null,
   "metadata": {},
   "outputs": [],
   "source": [
    "!pip install transformers\n",
    "!pip install unidic_lite\n",
    "!pip install sentencepiece\n",
    "!pip install fugashi"
   ]
  },
  {
   "cell_type": "markdown",
   "metadata": {},
   "source": [
    "The max length for padding falls within the 95th percentile of all the data"
   ]
  },
  {
   "cell_type": "code",
   "execution_count": null,
   "metadata": {},
   "outputs": [],
   "source": [
    "from transformers import AutoTokenizer, AutoModel\n",
    "import numpy as np\n",
    "\n",
    "tokenizer = AutoTokenizer.from_pretrained(\"line-corporation/line-distilbert-base-japanese\", trust_remote_code=True)\n",
    "model = AutoModel.from_pretrained(\"line-corporation/line-distilbert-base-japanese\")\n",
    "\n",
    "sentence_lengths = [len(tokenizer.tokenize(sent)) for sent in sentences.dropna()]\n",
    "\n",
    "max_length = int(np.percentile(sentence_lengths, 95))\n",
    "\n",
    "print(max_length)"
   ]
  },
  {
   "cell_type": "code",
   "execution_count": null,
   "metadata": {},
   "outputs": [],
   "source": [
    "from transformers import AutoTokenizer, AutoModelForSequenceClassification\n",
    "\n",
    "tokenizer = AutoTokenizer.from_pretrained(\"line-corporation/line-distilbert-base-japanese\", trust_remote_code=True)\n",
    "model = AutoModelForSequenceClassification.from_pretrained(\"line-corporation/line-distilbert-base-japanese\", num_labels=3)\n",
    "\n",
    "train_encodings = tokenizer(list(train[\"本文\"].dropna()), padding=\"max_length\", truncation=True, max_length=68, return_tensors=\"pt\")\n",
    "dev_encodings = tokenizer(list(dev[\"本文\"].dropna()), padding=\"max_length\", truncation=True, max_length=68, return_tensors=\"pt\")\n",
    "test_encodings = tokenizer(list(test[\"本文\"].dropna()), padding=\"max_length\", truncation=True, max_length=68, return_tensors=\"pt\")\n",
    "\n",
    "train_labels = torch.tensor(list(train[\"Level\"]), dtype=torch.long)\n",
    "dev_labels = torch.tensor(list(dev[\"Level\"]), dtype=torch.long)\n",
    "test_labels = torch.tensor(list(test[\"Level\"]), dtype=torch.long)\n",
    "\n",
    "train_encodings, train_labels"
   ]
  },
  {
   "cell_type": "code",
   "execution_count": null,
   "metadata": {},
   "outputs": [],
   "source": [
    "type(train_encodings), type(train_labels)"
   ]
  },
  {
   "cell_type": "code",
   "execution_count": null,
   "metadata": {},
   "outputs": [],
   "source": [
    "from torch.utils.data import Dataset, DataLoader\n",
    "\n",
    "class PolitenessDataset(Dataset):\n",
    "    def __init__(self, encodings, labels):\n",
    "        self.encodings = encodings\n",
    "        # The range of labels is originally from 1 to 3\n",
    "        # so subtract 1 from all the labels to adjust \"num_labels=3\" (expecting the labels to be 0 to 2)\n",
    "        self.labels = labels - 1\n",
    "    \n",
    "    def __len__(self):\n",
    "        return len(self.labels)\n",
    "    \n",
    "    def __getitem__(self, idx):\n",
    "        # Get tokenized inputs\n",
    "        item = {key: val[idx] for key, val in self.encodings.items()} \n",
    "        # Add corresponding label\n",
    "        item[\"labels\"] = self.labels[idx] \n",
    "        return item\n",
    "\n",
    "# Create datasets\n",
    "train_dataset = PolitenessDataset(train_encodings, train_labels)\n",
    "dev_dataset = PolitenessDataset(dev_encodings, dev_labels)\n",
    "test_dataset = PolitenessDataset(test_encodings, test_labels)\n",
    "\n",
    "# Create DataLoaders for batch training\n",
    "train_dataloader = DataLoader(train_dataset, batch_size=16, shuffle=True)\n",
    "dev_dataloader = DataLoader(dev_dataset, batch_size=16, shuffle=True)\n",
    "test_dataloader = DataLoader(test_dataset, batch_size=16, shuffle=False)\n",
    "\n",
    "train_dataset, train_dataloader"
   ]
  },
  {
   "cell_type": "code",
   "execution_count": null,
   "metadata": {},
   "outputs": [],
   "source": [
    "from transformers import AdamW\n",
    "\n",
    "# Define optimizer\n",
    "optimizer = AdamW(model.parameters(), lr=5e-5)"
   ]
  },
  {
   "cell_type": "code",
   "execution_count": null,
   "metadata": {},
   "outputs": [],
   "source": [
    "from transformers import get_scheduler\n",
    "from tqdm import tqdm\n",
    "\n",
    "num_training_steps = len(train_dataloader) * 3\n",
    "lr_scheduler = get_scheduler(\"linear\", optimizer=optimizer, num_warmup_steps=0, num_training_steps=num_training_steps)\n",
    "\n",
    "# Define loss function (CrossEntropy for classification)\n",
    "loss_fn = torch.nn.CrossEntropyLoss()\n",
    "\n",
    "epochs = 3\n",
    "for epoch in range(epochs):\n",
    "    # set the model to training mode\n",
    "    model.train()\n",
    "    total_loss = 0\n",
    "    \n",
    "    for batch in tqdm(train_dataloader, desc=\"Per Batch\", unit=\"batch\"):\n",
    "        batch = {key: val for key, val in batch.items()}\n",
    "        outputs = model(**batch)\n",
    "\n",
    "        loss = outputs.loss\n",
    "        total_loss += loss.item()\n",
    "\n",
    "        # reset the gradient descent\n",
    "        optimizer.zero_grad()\n",
    "\n",
    "        # Backpropagation\n",
    "        loss.backward()\n",
    "\n",
    "        # updates the parameters and the learning rate\n",
    "        optimizer.step()\n",
    "        lr_scheduler.step()\n",
    "    \n",
    "    avg_loss = total_loss / len(train_dataloader)\n",
    "    print(f\"Epoch {epoch+1}, Training Loss: {avg_loss:.4f}\")"
   ]
  },
  {
   "cell_type": "markdown",
   "metadata": {},
   "source": [
    "**Development**"
   ]
  },
  {
   "cell_type": "code",
   "execution_count": null,
   "metadata": {},
   "outputs": [],
   "source": [
    "from sklearn.metrics import accuracy_score\n",
    "\n",
    "# set the model to evaluating mode\n",
    "model.eval()\n",
    "all_preds = []\n",
    "all_labels = []\n",
    "\n",
    "with torch.no_grad():\n",
    "    for batch in tqdm(dev_dataloader, desc=\"Per Batch\", unit=\"batch\"):\n",
    "        batch = {key: val for key, val in batch.items()}\n",
    "        outputs = model(**batch)\n",
    "\n",
    "        # Convert the tensor to the numpy array for the sake of scikit-learn\n",
    "        preds = torch.argmax(outputs.logits, dim=1).numpy()\n",
    "        labels = batch[\"labels\"].numpy()\n",
    "\n",
    "        all_preds.extend(preds)\n",
    "        all_labels.extend(labels)\n",
    "\n",
    "# Calculate accuracy and F1 score\n",
    "accuracy = accuracy_score(all_labels, all_preds)\n",
    "print(f\"Validation Accuracy: {accuracy:.4f}\")\n",
    "        "
   ]
  },
  {
   "cell_type": "markdown",
   "metadata": {},
   "source": [
    "**Test**"
   ]
  },
  {
   "cell_type": "code",
   "execution_count": null,
   "metadata": {},
   "outputs": [],
   "source": [
    "model.eval()\n",
    "all_preds = []\n",
    "all_labels = []\n",
    "\n",
    "with torch.no_grad():\n",
    "    for batch in tqdm(test_dataloader, desc=\"Per Batch\", unit=\"batch\"):\n",
    "        batch = {key: val for key, val in batch.items()}\n",
    "        outputs = model(**batch)\n",
    "\n",
    "        preds = torch.argmax(outputs.logits, dim=1).numpy()\n",
    "        labels = batch[\"labels\"].numpy()\n",
    "\n",
    "        all_preds.extend(preds)\n",
    "        all_labels.extend(labels)\n",
    "\n",
    "# Calculate accuracy and F1 score\n",
    "accuracy = accuracy_score(all_labels, all_preds)\n",
    "print(f\"Test Accuracy: {accuracy:.4f}\")"
   ]
  },
  {
   "cell_type": "markdown",
   "metadata": {},
   "source": [
    "**Classify the Polteness Given Input Sentences**"
   ]
  },
  {
   "cell_type": "code",
   "execution_count": null,
   "metadata": {},
   "outputs": [],
   "source": [
    "def classify_politeness(text):\n",
    "    # Tokenize input text\n",
    "    inputs = tokenizer(text, padding=True, truncation=True, max_length=68, return_tensors=\"pt\")\n",
    "    \n",
    "    # Get model predictions\n",
    "    with torch.no_grad():\n",
    "        outputs = model(**inputs)\n",
    "        logits = outputs.logits\n",
    "\n",
    "    # Convert logits to predicted class\n",
    "    predicted_class = torch.argmax(logits, dim=1).item()\n",
    "    \n",
    "    # Mapping class index to politeness level\n",
    "    label_map = {0: \"Polite\", 1: \"Neutral\", 2: \"Impolite\"}\n",
    "    \n",
    "    return label_map[predicted_class]\n",
    "\n",
    "\n",
    "classify_politeness(\"\")"
   ]
  }
 ],
 "metadata": {
  "kernelspec": {
   "display_name": "base",
   "language": "python",
   "name": "python3"
  },
  "language_info": {
   "codemirror_mode": {
    "name": "ipython",
    "version": 3
   },
   "file_extension": ".py",
   "mimetype": "text/x-python",
   "name": "python",
   "nbconvert_exporter": "python",
   "pygments_lexer": "ipython3",
   "version": "3.11.7"
  }
 },
 "nbformat": 4,
 "nbformat_minor": 2
}
